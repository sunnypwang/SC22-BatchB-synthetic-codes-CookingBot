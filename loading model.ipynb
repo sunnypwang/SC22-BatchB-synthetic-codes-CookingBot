{
 "cells": [
  {
   "cell_type": "code",
   "execution_count": 0,
   "metadata": {
    "collapsed": false
   },
   "outputs": [
   ],
   "source": [
   ]
  },
  {
   "cell_type": "code",
   "execution_count": 2,
   "metadata": {
    "collapsed": false,
    "scrolled": true
   },
   "outputs": [
    {
     "ename": "NameError",
     "evalue": "name 'copy_file_from_gdrive' is not defined",
     "output_type": "error",
     "traceback": [
      "\u001b[0;31m---------------------------------------------------------------------------\u001b[0m",
      "\u001b[0;31mNameError\u001b[0m                                 Traceback (most recent call last)",
      "Input \u001b[0;32mIn [2]\u001b[0m, in \u001b[0;36m<cell line: 3>\u001b[0;34m()\u001b[0m\n\u001b[1;32m      5\u001b[0m   copy_file_from_gdrive(file, from_folder)\n\u001b[1;32m      6\u001b[0m \u001b[38;5;28;01melse\u001b[39;00m:\n\u001b[0;32m----> 7\u001b[0m   \u001b[43mcopy_file_from_gdrive\u001b[49m(file)\n",
      "\u001b[0;31mNameError\u001b[0m: name 'copy_file_from_gdrive' is not defined"
     ]
    }
   ],
   "source": [
    "# from_folder = None\n",
    "\n",
    "# for file in [\"pytorch_modelnewjustin.bin\", \"confignewjustin.json\"]:\n",
    "#   if from_folder:\n",
    "#     copy_file_from_gdrive(file, from_folder)\n",
    "#   else:\n",
    "#     copy_file_from_gdrive(file)\n",
    "#     #hello\n"
   ]
  },
  {
   "cell_type": "code",
   "execution_count": 0,
   "metadata": {
    "collapsed": false
   },
   "outputs": [
   ],
   "source": [
    "'''Prompts: \n",
    "Apple Pie: \n",
    "Apple\n",
    "Flour\n",
    "Water\n",
    "'''"
   ]
  },
  {
   "cell_type": "code",
   "execution_count": 7,
   "metadata": {
    "collapsed": false
   },
   "outputs": [
   ],
   "source": [
    "from aitextgen import aitextgen\n",
    "ai = aitextgen(model_folder=\"CoolFolder\", to_gpu=False)"
   ]
  },
  {
   "cell_type": "code",
   "execution_count": 18,
   "metadata": {
    "collapsed": false,
    "scrolled": true
   },
   "outputs": [
    {
     "name": "stdout",
     "output_type": "stream",
     "text": [
      "[Category]\n",
      "ok\n",
      "\n",
      "[Ingredients]\n",
      "bath bomb\n",
      "wood polisher\n",
      "white sugar\n",
      "white vinegar\n",
      "garlic\n",
      "bay leaves\n",
      "pepper\n",
      "cloves\n",
      "olive oil\n",
      "carrots\n",
      "dill pickle\n",
      "green onion\n",
      "\n",
      "[Name]\n",
      "Carameled Polenta with Sour Cream\n",
      "\n",
      "[Recipe]\n",
      "In a 2 quart pot, boil potatoes until fork tender, about 45 minutes.\n",
      "Peel potatoes.\n",
      "Place potatoes in bowl and add cold water to cover potatoes.\n",
      "Bring to a boil, reduce heat to low, and cook until potatoes are soft, 15-20 minutes.\n",
      "Drain, cool, squeeze with cold water, then peel potatoes.\n",
      "In a large saucepan, combine sugar and vinegar, stir in vinegar, garlic, and dill pickle.\n",
      "Add potatoes and boil gently, until potato is tender, about 20 minutes.\n",
      "Makes about 3/4 cup potato mixture.\n",
      "\n",
      "==========\n",
      "[Category]\n",
      "ok\n",
      "\n",
      "[Ingredients]\n",
      "bath bomb\n",
      "wood polisher\n",
      "sugar\n",
      "butter\n",
      "eggs\n",
      "vanilla\n",
      "flour\n",
      "baking soda\n",
      "salt\n",
      "white chocolate\n",
      "\n",
      "[Name]\n",
      "Chocolate Choc-Chocolate Coconut Oat Cake\n",
      "\n",
      "[Recipe]\n",
      "Cake:\n",
      "Preheat oven to 350°F.\n",
      "Grease and flour 13x9x2x2 inch pan.\n",
      "In medium bowl combine flour, baking soda and salt; blend well.\n",
      "In another bowl, combine coconut, butter, chocolate and oil; beat with electric mixer at medium speed until light and fluffy, 2 to 3 minutes.\n",
      "At low speed, add eggs, one at a time, beating after each addition.\n",
      "Add vanilla and beat on low speed until smooth.\n",
      "Fold into batter.\n",
      "Pour into pan and bake until a toothpick comes out clean, about 20-25 minutes.\n",
      "Cool in pan 10 minutes.\n",
      "Run knife around sides of pan to loosen.\n",
      "Remove from pan to wire rack and let cool on wire rack.\n",
      "Sprinkle with cocoa.\n",
      "\n",
      "==========\n",
      "[Category]\n",
      "ok\n",
      "\n",
      "[Ingredients]\n",
      "bath bomb\n",
      "wood polisher\n",
      "\n",
      "[Name]\n",
      "Polish Game Hens\n",
      "\n",
      "[Recipe]\n",
      "Boil 4 or 5 boned hens over a medium heat for about 2 hours, or until tender.\n",
      "Sear hens.\n",
      "Cut okra or meat into a pan and boil 3 to 4 minutes each side or until the skin starts to flake out.\n",
      "(You can do this part ahead of time and reheat in a large skillet with a little oil or oil.) Put hens in a pan, and steam.\n",
      "Add water, and salt and pepper.\n",
      "Cover and simmer for about 30 minutes.\n",
      "Check hens, depending on the size of the hen, and spoon the hot sauce over the hens.\n",
      "\n",
      "==========\n",
      "[Category]\n",
      "ok\n",
      "\n",
      "[Ingredients]\n",
      "bath bomb\n",
      "wood polisher\n",
      "onion\n",
      "carrots\n",
      "water chestnut\n",
      "fresh cranberries\n",
      "garlic clove\n",
      "water chestnuts\n",
      "scallions\n",
      "red chile\n",
      "olive oil\n",
      "ground ginger\n",
      "sugar\n",
      "ground cloves\n",
      "ground cumin\n",
      "fresh cilantro\n",
      "ground coriander\n",
      "\n",
      "[Name]\n",
      "Praline-Raisin and Cranberry-Nut Fondue\n",
      "\n",
      "[Recipe]\n",
      "Make sure you are using cold water and some dried cranberries to dry the ingredients.\n",
      "Bring a pot of water to boil.\n",
      "Reduce heat and simmer until tender, around 15 minutes.\n",
      "In a large non-stick pan saute the whole onion and carrot until tender.\n",
      "Add the chopped garlic and saute until soft.\n",
      "Add the water chestnuts and cook until opaque.\n",
      "Add the coconut and dried cranberries, and stir.\n",
      "Add the water chestnut puree and simmer until the fruit has been heated through and is heated through, about 2 minutes.\n",
      "Add the coconut cream and sugar, simmer until the sauce is reduced to about a third.\n",
      "Add the chopped fresh cilantro.\n",
      "Serve warm, garnished with fresh cor\n",
      "==========\n",
      "[Category]\n",
      "ok\n",
      "\n",
      "[Ingredients]\n",
      "bath bomb\n",
      "wood polisher\n",
      "potatoes\n",
      "bacon\n",
      "onion\n",
      "parsley\n",
      "black pepper\n",
      "olive oil\n",
      "\n",
      "[Name]\n",
      "Baked Polish Hunter II\n",
      "\n",
      "[Recipe]\n",
      "Put the stock in a pan.\n",
      "Add 2 cans of water and 1 tsp of salt.\n",
      "Bring to a boil and cook until water is reduced.\n",
      "Add the potatoes and 1 cup of bread crumbs.\n",
      "Return to a boil.\n",
      "Cover and cook until potatoes are tender and golden, about 20 minutes.\n",
      "Remove from heat and add 2 tsp garlic powder.\n",
      "Beat 2 egg yolks and 1/2 tsp salt and pepper in a bowl.\n",
      "In another small bowl, combine the remaining oil and remaining salt, add a little water.\n",
      "Add half of the mashed potatoes and to the pan.\n",
      "Cover and cook gently until crisp and tender, about 10 minutes.\n",
      "Remove from heat and leave until cool enough to handle.\n",
      "Pour half the cheese mixture over the polish base and stir in the remaining bread crumbs.\n",
      "Season to taste.\n",
      "Pour the mixture into the hot pan and spread it out slightly.\n",
      "Bake in a hot oven until\n"
     ]
    }
   ],
   "source": [
    "ai.generate(n=5,\n",
    "            batch_size=5,\n",
    "            prompt='''\n",
    "[Category]\n",
    "ok\n",
    "\n",
    "[Ingredients]\n",
    "bath bomb\n",
    "wood polisher\n",
    "''',\n",
    "            max_length=256,\n",
    "            temperature=1.0,\n",
    "            top_p=0.9)"
   ]
  },
  {
   "cell_type": "code",
   "execution_count": 0,
   "metadata": {
    "collapsed": false
   },
   "outputs": [
   ],
   "source": [
   ]
  }
 ],
 "metadata": {
  "kernelspec": {
   "display_name": "Python (nlp_env)",
   "language": "python",
   "metadata": {
    "debugger": true
   },
   "name": "nlp_env",
   "resource_dir": "/projects/937b47d2-0a7d-4c8a-adcf-9b1fb6f1f292/.local/share/jupyter/kernels/nlp_env"
  },
  "language_info": {
   "codemirror_mode": {
    "name": "ipython",
    "version": 3
   },
   "file_extension": ".py",
   "mimetype": "text/x-python",
   "name": "python",
   "nbconvert_exporter": "python",
   "pygments_lexer": "ipython3",
   "version": "3.8.13"
  }
 },
 "nbformat": 4,
 "nbformat_minor": 4
}