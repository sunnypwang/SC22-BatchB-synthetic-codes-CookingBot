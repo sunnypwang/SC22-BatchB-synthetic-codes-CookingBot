{
 "cells": [
  {
   "cell_type": "markdown",
   "metadata": {
    "collapsed": false
   },
   "source": [
    "### Preprocessing recipes dataset\n",
    "\n"
   ]
  },
  {
   "cell_type": "code",
   "execution_count": 1,
   "metadata": {
    "collapsed": false
   },
   "outputs": [
   ],
   "source": [
    "import pandas as pd\n",
    "import re\n",
    "import ast\n",
    "import sys\n"
   ]
  },
  {
   "cell_type": "code",
   "execution_count": 2,
   "metadata": {
    "collapsed": false
   },
   "outputs": [
   ],
   "source": [
    "'''load dataset using pandas (Hint: read_csv)'''\n",
    "data = pd.read_csv(\"recipes.csv\")\n",
    "data = data[:50000]"
   ]
  },
  {
   "cell_type": "code",
   "execution_count": 3,
   "metadata": {
    "collapsed": false,
    "scrolled": true
   },
   "outputs": [
    {
     "data": {
      "text/html": [
       "<div>\n",
       "<style scoped>\n",
       "    .dataframe tbody tr th:only-of-type {\n",
       "        vertical-align: middle;\n",
       "    }\n",
       "\n",
       "    .dataframe tbody tr th {\n",
       "        vertical-align: top;\n",
       "    }\n",
       "\n",
       "    .dataframe thead th {\n",
       "        text-align: right;\n",
       "    }\n",
       "</style>\n",
       "<table border=\"1\" class=\"dataframe\">\n",
       "  <thead>\n",
       "    <tr style=\"text-align: right;\">\n",
       "      <th></th>\n",
       "      <th>RecipeId</th>\n",
       "      <th>Name</th>\n",
       "      <th>AuthorId</th>\n",
       "      <th>AuthorName</th>\n",
       "      <th>CookTime</th>\n",
       "      <th>PrepTime</th>\n",
       "      <th>TotalTime</th>\n",
       "      <th>DatePublished</th>\n",
       "      <th>Description</th>\n",
       "      <th>Images</th>\n",
       "      <th>...</th>\n",
       "      <th>SaturatedFatContent</th>\n",
       "      <th>CholesterolContent</th>\n",
       "      <th>SodiumContent</th>\n",
       "      <th>CarbohydrateContent</th>\n",
       "      <th>FiberContent</th>\n",
       "      <th>SugarContent</th>\n",
       "      <th>ProteinContent</th>\n",
       "      <th>RecipeServings</th>\n",
       "      <th>RecipeYield</th>\n",
       "      <th>RecipeInstructions</th>\n",
       "    </tr>\n",
       "  </thead>\n",
       "  <tbody>\n",
       "    <tr>\n",
       "      <th>0</th>\n",
       "      <td>38</td>\n",
       "      <td>Low-Fat Berry Blue Frozen Dessert</td>\n",
       "      <td>1533</td>\n",
       "      <td>Dancer</td>\n",
       "      <td>PT24H</td>\n",
       "      <td>PT45M</td>\n",
       "      <td>PT24H45M</td>\n",
       "      <td>1999-08-09T21:46:00Z</td>\n",
       "      <td>Make and share this Low-Fat Berry Blue Frozen ...</td>\n",
       "      <td>c(\"https://img.sndimg.com/food/image/upload/w_...</td>\n",
       "      <td>...</td>\n",
       "      <td>1.3</td>\n",
       "      <td>8.0</td>\n",
       "      <td>29.8</td>\n",
       "      <td>37.1</td>\n",
       "      <td>3.6</td>\n",
       "      <td>30.2</td>\n",
       "      <td>3.2</td>\n",
       "      <td>4.0</td>\n",
       "      <td>NaN</td>\n",
       "      <td>c(\"Toss 2 cups berries with sugar.\", \"Let stan...</td>\n",
       "    </tr>\n",
       "    <tr>\n",
       "      <th>1</th>\n",
       "      <td>39</td>\n",
       "      <td>Biryani</td>\n",
       "      <td>1567</td>\n",
       "      <td>elly9812</td>\n",
       "      <td>PT25M</td>\n",
       "      <td>PT4H</td>\n",
       "      <td>PT4H25M</td>\n",
       "      <td>1999-08-29T13:12:00Z</td>\n",
       "      <td>Make and share this Biryani recipe from Food.com.</td>\n",
       "      <td>c(\"https://img.sndimg.com/food/image/upload/w_...</td>\n",
       "      <td>...</td>\n",
       "      <td>16.6</td>\n",
       "      <td>372.8</td>\n",
       "      <td>368.4</td>\n",
       "      <td>84.4</td>\n",
       "      <td>9.0</td>\n",
       "      <td>20.4</td>\n",
       "      <td>63.4</td>\n",
       "      <td>6.0</td>\n",
       "      <td>NaN</td>\n",
       "      <td>c(\"Soak saffron in warm milk for 5 minutes and...</td>\n",
       "    </tr>\n",
       "    <tr>\n",
       "      <th>2</th>\n",
       "      <td>40</td>\n",
       "      <td>Best Lemonade</td>\n",
       "      <td>1566</td>\n",
       "      <td>Stephen Little</td>\n",
       "      <td>PT5M</td>\n",
       "      <td>PT30M</td>\n",
       "      <td>PT35M</td>\n",
       "      <td>1999-09-05T19:52:00Z</td>\n",
       "      <td>This is from one of my  first Good House Keepi...</td>\n",
       "      <td>c(\"https://img.sndimg.com/food/image/upload/w_...</td>\n",
       "      <td>...</td>\n",
       "      <td>0.0</td>\n",
       "      <td>0.0</td>\n",
       "      <td>1.8</td>\n",
       "      <td>81.5</td>\n",
       "      <td>0.4</td>\n",
       "      <td>77.2</td>\n",
       "      <td>0.3</td>\n",
       "      <td>4.0</td>\n",
       "      <td>NaN</td>\n",
       "      <td>c(\"Into a 1 quart Jar with tight fitting lid, ...</td>\n",
       "    </tr>\n",
       "    <tr>\n",
       "      <th>3</th>\n",
       "      <td>41</td>\n",
       "      <td>Carina's Tofu-Vegetable Kebabs</td>\n",
       "      <td>1586</td>\n",
       "      <td>Cyclopz</td>\n",
       "      <td>PT20M</td>\n",
       "      <td>PT24H</td>\n",
       "      <td>PT24H20M</td>\n",
       "      <td>1999-09-03T14:54:00Z</td>\n",
       "      <td>This dish is best prepared a day in advance to...</td>\n",
       "      <td>c(\"https://img.sndimg.com/food/image/upload/w_...</td>\n",
       "      <td>...</td>\n",
       "      <td>3.8</td>\n",
       "      <td>0.0</td>\n",
       "      <td>1558.6</td>\n",
       "      <td>64.2</td>\n",
       "      <td>17.3</td>\n",
       "      <td>32.1</td>\n",
       "      <td>29.3</td>\n",
       "      <td>2.0</td>\n",
       "      <td>4 kebabs</td>\n",
       "      <td>c(\"Drain the tofu, carefully squeezing out exc...</td>\n",
       "    </tr>\n",
       "    <tr>\n",
       "      <th>4</th>\n",
       "      <td>42</td>\n",
       "      <td>Cabbage Soup</td>\n",
       "      <td>1538</td>\n",
       "      <td>Duckie067</td>\n",
       "      <td>PT30M</td>\n",
       "      <td>PT20M</td>\n",
       "      <td>PT50M</td>\n",
       "      <td>1999-09-19T06:19:00Z</td>\n",
       "      <td>Make and share this Cabbage Soup recipe from F...</td>\n",
       "      <td>\"https://img.sndimg.com/food/image/upload/w_55...</td>\n",
       "      <td>...</td>\n",
       "      <td>0.1</td>\n",
       "      <td>0.0</td>\n",
       "      <td>959.3</td>\n",
       "      <td>25.1</td>\n",
       "      <td>4.8</td>\n",
       "      <td>17.7</td>\n",
       "      <td>4.3</td>\n",
       "      <td>4.0</td>\n",
       "      <td>NaN</td>\n",
       "      <td>c(\"Mix everything together and bring to a boil...</td>\n",
       "    </tr>\n",
       "  </tbody>\n",
       "</table>\n",
       "<p>5 rows × 28 columns</p>\n",
       "</div>"
      ],
      "text/plain": [
       "   RecipeId                               Name  AuthorId      AuthorName  \\\n",
       "0        38  Low-Fat Berry Blue Frozen Dessert      1533          Dancer   \n",
       "1        39                            Biryani      1567        elly9812   \n",
       "2        40                      Best Lemonade      1566  Stephen Little   \n",
       "3        41     Carina's Tofu-Vegetable Kebabs      1586         Cyclopz   \n",
       "4        42                       Cabbage Soup      1538       Duckie067   \n",
       "\n",
       "  CookTime PrepTime TotalTime         DatePublished  \\\n",
       "0    PT24H    PT45M  PT24H45M  1999-08-09T21:46:00Z   \n",
       "1    PT25M     PT4H   PT4H25M  1999-08-29T13:12:00Z   \n",
       "2     PT5M    PT30M     PT35M  1999-09-05T19:52:00Z   \n",
       "3    PT20M    PT24H  PT24H20M  1999-09-03T14:54:00Z   \n",
       "4    PT30M    PT20M     PT50M  1999-09-19T06:19:00Z   \n",
       "\n",
       "                                         Description  \\\n",
       "0  Make and share this Low-Fat Berry Blue Frozen ...   \n",
       "1  Make and share this Biryani recipe from Food.com.   \n",
       "2  This is from one of my  first Good House Keepi...   \n",
       "3  This dish is best prepared a day in advance to...   \n",
       "4  Make and share this Cabbage Soup recipe from F...   \n",
       "\n",
       "                                              Images  ... SaturatedFatContent  \\\n",
       "0  c(\"https://img.sndimg.com/food/image/upload/w_...  ...                 1.3   \n",
       "1  c(\"https://img.sndimg.com/food/image/upload/w_...  ...                16.6   \n",
       "2  c(\"https://img.sndimg.com/food/image/upload/w_...  ...                 0.0   \n",
       "3  c(\"https://img.sndimg.com/food/image/upload/w_...  ...                 3.8   \n",
       "4  \"https://img.sndimg.com/food/image/upload/w_55...  ...                 0.1   \n",
       "\n",
       "  CholesterolContent SodiumContent CarbohydrateContent  FiberContent  \\\n",
       "0                8.0          29.8                37.1           3.6   \n",
       "1              372.8         368.4                84.4           9.0   \n",
       "2                0.0           1.8                81.5           0.4   \n",
       "3                0.0        1558.6                64.2          17.3   \n",
       "4                0.0         959.3                25.1           4.8   \n",
       "\n",
       "   SugarContent  ProteinContent  RecipeServings  RecipeYield  \\\n",
       "0          30.2             3.2             4.0          NaN   \n",
       "1          20.4            63.4             6.0          NaN   \n",
       "2          77.2             0.3             4.0          NaN   \n",
       "3          32.1            29.3             2.0     4 kebabs   \n",
       "4          17.7             4.3             4.0          NaN   \n",
       "\n",
       "                                  RecipeInstructions  \n",
       "0  c(\"Toss 2 cups berries with sugar.\", \"Let stan...  \n",
       "1  c(\"Soak saffron in warm milk for 5 minutes and...  \n",
       "2  c(\"Into a 1 quart Jar with tight fitting lid, ...  \n",
       "3  c(\"Drain the tofu, carefully squeezing out exc...  \n",
       "4  c(\"Mix everything together and bring to a boil...  \n",
       "\n",
       "[5 rows x 28 columns]"
      ]
     },
     "execution_count": 3,
     "metadata": {
     },
     "output_type": "execute_result"
    }
   ],
   "source": [
    "# display data before cleaning\n",
    "data.head()"
   ]
  },
  {
   "cell_type": "code",
   "execution_count": 4,
   "metadata": {
    "collapsed": false
   },
   "outputs": [
    {
     "data": {
      "text/html": [
       "<div>\n",
       "<style scoped>\n",
       "    .dataframe tbody tr th:only-of-type {\n",
       "        vertical-align: middle;\n",
       "    }\n",
       "\n",
       "    .dataframe tbody tr th {\n",
       "        vertical-align: top;\n",
       "    }\n",
       "\n",
       "    .dataframe thead th {\n",
       "        text-align: right;\n",
       "    }\n",
       "</style>\n",
       "<table border=\"1\" class=\"dataframe\">\n",
       "  <thead>\n",
       "    <tr style=\"text-align: right;\">\n",
       "      <th></th>\n",
       "      <th>Name</th>\n",
       "      <th>RecipeIngredientParts</th>\n",
       "      <th>RecipeCategory</th>\n",
       "      <th>RecipeInstructions</th>\n",
       "    </tr>\n",
       "  </thead>\n",
       "  <tbody>\n",
       "    <tr>\n",
       "      <th>0</th>\n",
       "      <td>Low-Fat Berry Blue Frozen Dessert</td>\n",
       "      <td>c(\"blueberries\", \"granulated sugar\", \"vanilla ...</td>\n",
       "      <td>Frozen Desserts</td>\n",
       "      <td>c(\"Toss 2 cups berries with sugar.\", \"Let stan...</td>\n",
       "    </tr>\n",
       "    <tr>\n",
       "      <th>1</th>\n",
       "      <td>Biryani</td>\n",
       "      <td>c(\"saffron\", \"milk\", \"hot green chili peppers\"...</td>\n",
       "      <td>Chicken Breast</td>\n",
       "      <td>c(\"Soak saffron in warm milk for 5 minutes and...</td>\n",
       "    </tr>\n",
       "    <tr>\n",
       "      <th>2</th>\n",
       "      <td>Best Lemonade</td>\n",
       "      <td>c(\"sugar\", \"lemons, rind of\", \"lemon, zest of\"...</td>\n",
       "      <td>Beverages</td>\n",
       "      <td>c(\"Into a 1 quart Jar with tight fitting lid, ...</td>\n",
       "    </tr>\n",
       "    <tr>\n",
       "      <th>3</th>\n",
       "      <td>Carina's Tofu-Vegetable Kebabs</td>\n",
       "      <td>c(\"extra firm tofu\", \"eggplant\", \"zucchini\", \"...</td>\n",
       "      <td>Soy/Tofu</td>\n",
       "      <td>c(\"Drain the tofu, carefully squeezing out exc...</td>\n",
       "    </tr>\n",
       "    <tr>\n",
       "      <th>4</th>\n",
       "      <td>Cabbage Soup</td>\n",
       "      <td>c(\"plain tomato juice\", \"cabbage\", \"onion\", \"c...</td>\n",
       "      <td>Vegetable</td>\n",
       "      <td>c(\"Mix everything together and bring to a boil...</td>\n",
       "    </tr>\n",
       "  </tbody>\n",
       "</table>\n",
       "</div>"
      ],
      "text/plain": [
       "                                Name  \\\n",
       "0  Low-Fat Berry Blue Frozen Dessert   \n",
       "1                            Biryani   \n",
       "2                      Best Lemonade   \n",
       "3     Carina's Tofu-Vegetable Kebabs   \n",
       "4                       Cabbage Soup   \n",
       "\n",
       "                               RecipeIngredientParts   RecipeCategory  \\\n",
       "0  c(\"blueberries\", \"granulated sugar\", \"vanilla ...  Frozen Desserts   \n",
       "1  c(\"saffron\", \"milk\", \"hot green chili peppers\"...   Chicken Breast   \n",
       "2  c(\"sugar\", \"lemons, rind of\", \"lemon, zest of\"...        Beverages   \n",
       "3  c(\"extra firm tofu\", \"eggplant\", \"zucchini\", \"...         Soy/Tofu   \n",
       "4  c(\"plain tomato juice\", \"cabbage\", \"onion\", \"c...        Vegetable   \n",
       "\n",
       "                                  RecipeInstructions  \n",
       "0  c(\"Toss 2 cups berries with sugar.\", \"Let stan...  \n",
       "1  c(\"Soak saffron in warm milk for 5 minutes and...  \n",
       "2  c(\"Into a 1 quart Jar with tight fitting lid, ...  \n",
       "3  c(\"Drain the tofu, carefully squeezing out exc...  \n",
       "4  c(\"Mix everything together and bring to a boil...  "
      ]
     },
     "execution_count": 4,
     "metadata": {
     },
     "output_type": "execute_result"
    }
   ],
   "source": [
    "'''removing data we don't need'''\n",
    "data = data[['Name','RecipeIngredientParts','RecipeCategory','RecipeInstructions']]\n",
    "data.head()\n",
    "#data"
   ]
  },
  {
   "cell_type": "code",
   "execution_count": 5,
   "metadata": {
    "collapsed": false
   },
   "outputs": [
    {
     "name": "stdout",
     "output_type": "stream",
     "text": [
      "222\n"
     ]
    }
   ],
   "source": [
    "# list all columns\n",
    "categories = set(data[\"RecipeCategory\"])\n",
    "print(len(categories))"
   ]
  },
  {
   "cell_type": "code",
   "execution_count": 6,
   "metadata": {
    "collapsed": false,
    "scrolled": true
   },
   "outputs": [
    {
     "name": "stdout",
     "output_type": "stream",
     "text": [
      "['< 15 Mins', '< 30 Mins', '< 4 Hours', '< 60 Mins', 'African', 'Apple', 'Asian', 'Australian', 'Austrian', 'Bar Cookie', 'Bass', 'Bath/Beauty', 'Beans', 'Bear', 'Beef Organ Meats', 'Belgian', 'Berries', 'Beverages', 'Black Beans', 'Brazilian', 'Breads', 'Breakfast', 'Broil/Grill', 'Brown Rice', 'Cajun', 'Camping', 'Canadian', 'Candy', 'Canning', 'Cantonese', 'Caribbean', 'Catfish', 'Cauliflower', 'Chard', 'Cheese', 'Cheesecake', 'Cherries', 'Chicken', 'Chicken Breast', 'Chicken Livers', 'Chicken Thigh & Leg', 'Chinese', 'Chowders', 'Christmas', 'Chutneys', 'Citrus', 'Clear Soup', 'Coconut', 'Collard Greens', 'Colombian', 'Corn', 'Costa Rican', 'Crab', 'Crawfish', 'Creole', 'Cuban', 'Curries', 'Danish', 'Deer', 'Dehydrator', 'Dessert', 'Drop Cookies', 'Duck', 'Duck Breasts', 'Dutch', 'Easy', 'Egyptian', 'Elk', 'Ethiopian', 'European', 'Filipino', 'For Large Groups', 'Free Of...', 'Frozen Desserts', 'Fruit', 'Gelatin', 'German', 'Goose', 'Grains', 'Greek', 'Greens', 'Gumbo', 'Halibut', 'Ham', 'Hawaiian', 'Healthy', 'High Fiber', 'High In...', 'High Protein', 'Homeopathy/Remedies', 'Household Cleaner', 'Hungarian', 'Indonesian', 'Japanese', 'Jellies', 'Kid Friendly', 'Korean', 'Kosher', 'Lactose Free', 'Lamb/Sheep', 'Lebanese', 'Lentil', 'Lobster', 'Long Grain Rice', 'Low Cholesterol', 'Low Protein', 'Lunch/Snacks', 'Mahi Mahi', 'Mango', 'Manicotti', 'Meat', 'Meatballs', 'Meatloaf', 'Medium Grain Rice', 'Melons', 'Mexican', 'Microwave', 'Moose', 'Moroccan', 'Mussels', 'Native American', 'New Zealand', 'No Cook', 'No Shell Fish', 'Norwegian', 'Nuts', 'One Dish Meal', 'Onions', 'Orange Roughy', 'Oranges', 'Oven', 'Papaya', 'Pasta Shells', 'Peanut Butter', 'Pears', 'Penne', 'Pennsylvania Dutch', 'Peppers', 'Perch', 'Pheasant', 'Pie', 'Pineapple', 'Plums', 'Polish', 'Polynesian', 'Pork', 'Portuguese', 'Pot Pie', 'Potato', 'Potluck', 'Poultry', 'Pressure Cooker', 'Punch Beverage', 'Quail', 'Quick Breads', 'Rabbit', 'Raspberries', 'Refrigerator', 'Rice', 'Roast', 'Roast Beef', 'Russian', 'Salad Dressings', 'Sauces', 'Savory', 'Savory Pies', 'Scandinavian', 'Scones', 'Scottish', 'Shakes', 'Short Grain Rice', 'Smoothies', 'Sourdough Breads', 'Southwest Asia (middle East)', 'Southwestern U.S.', 'Soy/Tofu', 'Spaghetti', 'Spanish', 'Spicy', 'Spinach', 'Spreads', 'Spring', 'Squid', \"St. Patrick's Day\", 'Steak', 'Stew', 'Stir Fry', 'Stocks', 'Strawberry', 'Summer', 'Summer Dip', 'Swedish', 'Sweet', 'Swiss', 'Szechuan', 'Tarts', 'Tempeh', 'Tex Mex', 'Thai', 'Thanksgiving', 'Tilapia', 'Tropical Fruits', 'Trout', 'Tuna', 'Turkey Breasts', 'Turkish', 'Veal', 'Vegan', 'Vegetable', 'Very Low Carbs', 'Vietnamese', 'Weeknight', 'Welsh', 'White Rice', 'Whole Chicken', 'Whole Duck', 'Whole Turkey', 'Wild Game', 'Winter', 'Yam/Sweet Potato', 'Yeast Breads', 'nan']\n"
     ]
    }
   ],
   "source": [
    "print(sorted([str(x) for x in categories]))"
   ]
  },
  {
   "cell_type": "code",
   "execution_count": 7,
   "metadata": {
    "collapsed": false
   },
   "outputs": [
    {
     "data": {
      "text/plain": [
       "\" wanted_categories = ['Timed cooking', 'Seafood', 'Meat', 'Breads/Potatoes', 'Cultures', 'Other',''Soups','Desserts','Fruits','Rice','Drinks','Vegetable','Dairy']\\n\""
      ]
     },
     "execution_count": 7,
     "metadata": {
     },
     "output_type": "execute_result"
    }
   ],
   "source": [
    "#convert into a bigger set\n",
    "''' wanted_categories = ['Timed cooking', 'Seafood', 'Meat', 'Breads/Potatoes', 'Cultures', 'Other',''Soups','Desserts','Fruits','Rice','Drinks','Vegetable','Dairy']\n",
    "'''\n",
    "\n",
    "# fruit_category = ['Mango', 'Apple', 'Avocado', 'Strawberry', 'Raspberries', 'Plums', 'Pineapple', 'Pears', 'Papaya', 'Oranges', 'Melons', 'Fruit', 'Citrus','Coconut', 'Berries']\n",
    "# Meat_category = ['Bear', 'Beef Organ Meats','Deer', 'Whole Turkey', 'Whole Duck', 'Whole Chicken', 'Veal', 'Steak', 'Roast Beef', 'Rabbit', 'Quail', 'Poultry', 'Pork', 'Pheasant', 'Moose', 'Meatloaf', 'Meatballs', 'Meat','Lamb/Sheep', 'Ham', 'Goose', 'Elk', 'Duck Breasts', 'Chicken Thigh & Leg', 'Chicken Livers', 'Chicken Breast', 'Chicken']\n",
    "# Seafood_category = ['Bass', 'Catfish', 'Tuna', 'Trout', 'Tilapia', 'Squid', 'Perch', 'Orange Roughy', 'Mussels', 'Mahi Mahi', 'Lobster', 'Halibut', 'Crawfish', 'Crab']\n",
    "# timed_category = ['< 15 Mins', '< 30 Mins', '< 4 Hours', '< 60 Mins']\n",
    "# bread_potato_category = ['Yeast Breads', 'Yam/Sweet Potato', 'Sourdough Breads', 'Quick Breads', 'Potato', 'Breads', 'Beans']\n",
    "# culture_category = ['African', 'Asian', 'Australian', 'Austrian', 'Vietnamese', 'Turkish', 'Thai', 'Tex Mex', 'Swedish', 'Swiss', 'Spanish','Southwestern U.S.', 'Southwest Asia(middle East)', 'Scottish', 'Scandinavian', 'Russian', 'Polish', 'Pennsylvania Dutch', 'Norwegian', 'New Zealand', 'Native American', 'Moroccan', 'Mexican', 'Lebanese', 'Korean', 'Japanese', 'Indonesian', 'Hungarian', 'Hawaiian', 'Greek', 'German', 'European', 'Ethiopian', 'Dutch', 'Danish', 'Creole', 'Columbian', 'Chinese', 'Carribean', 'Canadian', 'Cajun', 'Brazilian', 'Belgian']\n",
    "# other_catagory = ['Tempeh', 'Stir Fry', 'Spaghetti', 'Soy/Tofu', 'Savory', 'Sauces', 'Salad Dressings', 'Roast', 'Penne', 'Pasta Shells', 'Manicotti', 'Curries', 'Black Beans']\n",
    "# soups_catagory = ['Stocks', 'Stew', 'Clear Soup', 'Gumbo', 'Chowders']\n",
    "# desserts_catagory = ['Tarts', 'Scones', 'Savory Pies', 'Pie', 'Frozen Desserts', 'Drop Cookies', 'Dessert', 'Bar Cookie', 'Candy']\n",
    "# rice_category = ['Brown Rice', 'White Rice', 'Short Grain Rice', 'Rice', 'Medium Grain Rice', 'Long Grain Rie', 'Grains']\n",
    "# drinks_catagory = ['Smoothies', 'Shakes', 'Punch Beverage', 'Beverages']\n",
    "# vegetable_catagory = ['Vegetable', 'Vegan', 'Spinach', 'Peppers', 'Onions', 'Lentil','Greens', 'Corn', 'Collard Greens', 'Cauliflower']\n",
    "# dairy_catagory = ['Cheese', 'Cheesecake']"
   ]
  },
  {
   "cell_type": "code",
   "execution_count": 8,
   "metadata": {
    "collapsed": false
   },
   "outputs": [
    {
     "data": {
      "text/plain": [
       "{'< 15 Mins',\n",
       " '< 30 Mins',\n",
       " '< 4 Hours',\n",
       " '< 60 Mins',\n",
       " 'African',\n",
       " 'Apple',\n",
       " 'Asian',\n",
       " 'Australian',\n",
       " 'Austrian',\n",
       " 'Bar Cookie',\n",
       " 'Bass',\n",
       " 'Beans',\n",
       " 'Bear',\n",
       " 'Beef Organ Meats',\n",
       " 'Belgian',\n",
       " 'Berries',\n",
       " 'Beverages',\n",
       " 'Black Beans',\n",
       " 'Brazilian',\n",
       " 'Breads',\n",
       " 'Brown Rice',\n",
       " 'Cajun',\n",
       " 'Camping',\n",
       " 'Canadian',\n",
       " 'Candy',\n",
       " 'Cantonese',\n",
       " 'Caribbean',\n",
       " 'Catfish',\n",
       " 'Cauliflower',\n",
       " 'Chard',\n",
       " 'Cheese',\n",
       " 'Cheesecake',\n",
       " 'Cherries',\n",
       " 'Chicken',\n",
       " 'Chicken Breast',\n",
       " 'Chicken Livers',\n",
       " 'Chicken Thigh & Leg',\n",
       " 'Chinese',\n",
       " 'Chowders',\n",
       " 'Citrus',\n",
       " 'Clear Soup',\n",
       " 'Coconut',\n",
       " 'Collard Greens',\n",
       " 'Colombian',\n",
       " 'Corn',\n",
       " 'Costa Rican',\n",
       " 'Crab',\n",
       " 'Crawfish',\n",
       " 'Creole',\n",
       " 'Cuban',\n",
       " 'Curries',\n",
       " 'Danish',\n",
       " 'Deer',\n",
       " 'Dessert',\n",
       " 'Drop Cookies',\n",
       " 'Duck',\n",
       " 'Duck Breasts',\n",
       " 'Dutch',\n",
       " 'Egyptian',\n",
       " 'Elk',\n",
       " 'Ethiopian',\n",
       " 'European',\n",
       " 'Filipino',\n",
       " 'For Large Groups',\n",
       " 'Frozen Desserts',\n",
       " 'Fruit',\n",
       " 'German',\n",
       " 'Goose',\n",
       " 'Grains',\n",
       " 'Greek',\n",
       " 'Greens',\n",
       " 'Gumbo',\n",
       " 'Halibut',\n",
       " 'Ham',\n",
       " 'Hawaiian',\n",
       " 'Healthy',\n",
       " 'High Protein',\n",
       " 'Hungarian',\n",
       " 'Indonesian',\n",
       " 'Japanese',\n",
       " 'Jellies',\n",
       " 'Korean',\n",
       " 'Kosher',\n",
       " 'Lactose Free',\n",
       " 'Lamb/Sheep',\n",
       " 'Lebanese',\n",
       " 'Lentil',\n",
       " 'Lobster',\n",
       " 'Long Grain Rice',\n",
       " 'Mahi Mahi',\n",
       " 'Mango',\n",
       " 'Manicotti',\n",
       " 'Meat',\n",
       " 'Meatballs',\n",
       " 'Meatloaf',\n",
       " 'Medium Grain Rice',\n",
       " 'Melons',\n",
       " 'Mexican',\n",
       " 'Moose',\n",
       " 'Moroccan',\n",
       " 'Mussels',\n",
       " 'Native American',\n",
       " 'New Zealand',\n",
       " 'Norwegian',\n",
       " 'Nuts',\n",
       " 'Onions',\n",
       " 'Orange Roughy',\n",
       " 'Oranges',\n",
       " 'Papaya',\n",
       " 'Pasta Shells',\n",
       " 'Peanut Butter',\n",
       " 'Pears',\n",
       " 'Penne',\n",
       " 'Pennsylvania Dutch',\n",
       " 'Peppers',\n",
       " 'Perch',\n",
       " 'Pheasant',\n",
       " 'Pie',\n",
       " 'Pineapple',\n",
       " 'Plums',\n",
       " 'Polish',\n",
       " 'Polynesian',\n",
       " 'Pork',\n",
       " 'Portuguese',\n",
       " 'Pot Pie',\n",
       " 'Potato',\n",
       " 'Poultry',\n",
       " 'Pressure Cooker',\n",
       " 'Punch Beverage',\n",
       " 'Quail',\n",
       " 'Quick Breads',\n",
       " 'Rabbit',\n",
       " 'Raspberries',\n",
       " 'Rice',\n",
       " 'Roast',\n",
       " 'Roast Beef',\n",
       " 'Russian',\n",
       " 'Salad Dressings',\n",
       " 'Sauces',\n",
       " 'Savory',\n",
       " 'Savory Pies',\n",
       " 'Scandinavian',\n",
       " 'Scones',\n",
       " 'Scottish',\n",
       " 'Shakes',\n",
       " 'Short Grain Rice',\n",
       " 'Smoothies',\n",
       " 'Sourdough Breads',\n",
       " 'Southwest Asia (middle East)',\n",
       " 'Southwestern U.S.',\n",
       " 'Soy/Tofu',\n",
       " 'Spaghetti',\n",
       " 'Spanish',\n",
       " 'Spicy',\n",
       " 'Spinach',\n",
       " 'Squid',\n",
       " 'Steak',\n",
       " 'Stew',\n",
       " 'Stir Fry',\n",
       " 'Stocks',\n",
       " 'Strawberry',\n",
       " 'Swedish',\n",
       " 'Sweet',\n",
       " 'Swiss',\n",
       " 'Szechuan',\n",
       " 'Tarts',\n",
       " 'Tempeh',\n",
       " 'Tex Mex',\n",
       " 'Thai',\n",
       " 'Tilapia',\n",
       " 'Tropical Fruits',\n",
       " 'Trout',\n",
       " 'Tuna',\n",
       " 'Turkey Breasts',\n",
       " 'Turkish',\n",
       " 'Veal',\n",
       " 'Vegan',\n",
       " 'Vegetable',\n",
       " 'Vietnamese',\n",
       " 'Welsh',\n",
       " 'White Rice',\n",
       " 'Whole Chicken',\n",
       " 'Whole Duck',\n",
       " 'Whole Turkey',\n",
       " 'Yam/Sweet Potato',\n",
       " 'Yeast Breads',\n",
       " nan}"
      ]
     },
     "execution_count": 8,
     "metadata": {
     },
     "output_type": "execute_result"
    }
   ],
   "source": [
    "#filter out categories we don't want\n",
    "# wanted_categories = ['< 15 Mins', '< 30 Mins', '< 4 Hours','< 60 Mins', 'Dessert', 'Seafood', 'Meat', 'Breads', 'Cultures', 'Other']\n",
    "unwanted = ['Bath/Beauty','Halloween','Dehydrator','Beginner Cook','Household Cleaner','Homeopathy/Remedies','Kid Friendly','High Fiber',\"Toddler Friendly\",\"Weeknight\",'Refrigerator','Microwave', 'Low Protein',\"St. Patrick's Day\",'Low Cholesterol','Summer', 'Summer Dip','Spring', 'Winter', 'Wild Game', 'Thanksgiving', 'Halloween', 'Christmas','nan','High In...', 'Potluck','Spreads','Oven','One Dish Meal','No Shell Fish','No Cook','Free Of...','Lunch/Snacks','Gelatin','Easy','Chutneys','Canning','Broil/Grill', 'Breakfast','Very Low Carbs']\n",
    "for cat in categories:\n",
    "    if cat in unwanted:\n",
    "        data = data[data['RecipeCategory'] != cat] #if category is not in unwanted we will keep it\n",
    "filtered_categories = set(data[\"RecipeCategory\"])\n",
    "filtered_categories\n",
    "#catagories like bathbombs"
   ]
  },
  {
   "cell_type": "code",
   "execution_count": 9,
   "metadata": {
    "collapsed": false
   },
   "outputs": [
    {
     "name": "stdout",
     "output_type": "stream",
     "text": [
      "187\n"
     ]
    }
   ],
   "source": [
    "print(len(filtered_categories))"
   ]
  },
  {
   "cell_type": "code",
   "execution_count": 10,
   "metadata": {
    "collapsed": false,
    "scrolled": true
   },
   "outputs": [
    {
     "data": {
      "text/html": [
       "<div>\n",
       "<style scoped>\n",
       "    .dataframe tbody tr th:only-of-type {\n",
       "        vertical-align: middle;\n",
       "    }\n",
       "\n",
       "    .dataframe tbody tr th {\n",
       "        vertical-align: top;\n",
       "    }\n",
       "\n",
       "    .dataframe thead th {\n",
       "        text-align: right;\n",
       "    }\n",
       "</style>\n",
       "<table border=\"1\" class=\"dataframe\">\n",
       "  <thead>\n",
       "    <tr style=\"text-align: right;\">\n",
       "      <th></th>\n",
       "      <th>Name</th>\n",
       "      <th>RecipeIngredientParts</th>\n",
       "      <th>RecipeCategory</th>\n",
       "      <th>RecipeInstructions</th>\n",
       "    </tr>\n",
       "  </thead>\n",
       "  <tbody>\n",
       "    <tr>\n",
       "      <th>4</th>\n",
       "      <td>Cabbage Soup</td>\n",
       "      <td>c(\"plain tomato juice\", \"cabbage\", \"onion\", \"c...</td>\n",
       "      <td>Vegetable</td>\n",
       "      <td>c(\"Mix everything together and bring to a boil...</td>\n",
       "    </tr>\n",
       "    <tr>\n",
       "      <th>8</th>\n",
       "      <td>A Jad - Cucumber Pickle</td>\n",
       "      <td>c(\"rice vinegar\", \"haeo\")</td>\n",
       "      <td>Vegetable</td>\n",
       "      <td>c(\"Slice the cucumber in four lengthwise, then...</td>\n",
       "    </tr>\n",
       "    <tr>\n",
       "      <th>21</th>\n",
       "      <td>Lou's Fabulous Bruschetta</td>\n",
       "      <td>c(\"French baguette\", \"butter\", \"garlic powder\"...</td>\n",
       "      <td>Vegetable</td>\n",
       "      <td>c(\"Cut baguette into slices.\", \"Butter and the...</td>\n",
       "    </tr>\n",
       "    <tr>\n",
       "      <th>44</th>\n",
       "      <td>Braised Brussels Sprouts With Vinegar and Dill</td>\n",
       "      <td>c(\"Brussels sprouts\", \"fresh dill\", \"wine vine...</td>\n",
       "      <td>Vegetable</td>\n",
       "      <td>c(\"Trim sprouts; halved if desired.\", \"In larg...</td>\n",
       "    </tr>\n",
       "    <tr>\n",
       "      <th>61</th>\n",
       "      <td>Borscht</td>\n",
       "      <td>c(\"cabbage\", \"onion\", \"celery\", \"butter\", \"bee...</td>\n",
       "      <td>Vegetable</td>\n",
       "      <td>c(\"Saute cabbage, onion and celery in butter u...</td>\n",
       "    </tr>\n",
       "  </tbody>\n",
       "</table>\n",
       "</div>"
      ],
      "text/plain": [
       "                                              Name  \\\n",
       "4                                     Cabbage Soup   \n",
       "8                          A Jad - Cucumber Pickle   \n",
       "21                       Lou's Fabulous Bruschetta   \n",
       "44  Braised Brussels Sprouts With Vinegar and Dill   \n",
       "61                                         Borscht   \n",
       "\n",
       "                                RecipeIngredientParts RecipeCategory  \\\n",
       "4   c(\"plain tomato juice\", \"cabbage\", \"onion\", \"c...      Vegetable   \n",
       "8                           c(\"rice vinegar\", \"haeo\")      Vegetable   \n",
       "21  c(\"French baguette\", \"butter\", \"garlic powder\"...      Vegetable   \n",
       "44  c(\"Brussels sprouts\", \"fresh dill\", \"wine vine...      Vegetable   \n",
       "61  c(\"cabbage\", \"onion\", \"celery\", \"butter\", \"bee...      Vegetable   \n",
       "\n",
       "                                   RecipeInstructions  \n",
       "4   c(\"Mix everything together and bring to a boil...  \n",
       "8   c(\"Slice the cucumber in four lengthwise, then...  \n",
       "21  c(\"Cut baguette into slices.\", \"Butter and the...  \n",
       "44  c(\"Trim sprouts; halved if desired.\", \"In larg...  \n",
       "61  c(\"Saute cabbage, onion and celery in butter u...  "
      ]
     },
     "execution_count": 10,
     "metadata": {
     },
     "output_type": "execute_result"
    }
   ],
   "source": [
    "data[data['RecipeCategory'] == 'Vegetable'].head() # list all recipes with this category"
   ]
  },
  {
   "cell_type": "code",
   "execution_count": 11,
   "metadata": {
    "collapsed": false
   },
   "outputs": [
    {
     "data": {
      "text/plain": [
       "Name                     False\n",
       "RecipeIngredientParts    False\n",
       "RecipeCategory            True\n",
       "RecipeInstructions       False\n",
       "dtype: bool"
      ]
     },
     "execution_count": 11,
     "metadata": {
     },
     "output_type": "execute_result"
    }
   ],
   "source": [
    "'''drop rows with missing values (Nan)'''\n",
    "data.isna().any()"
   ]
  },
  {
   "cell_type": "code",
   "execution_count": 12,
   "metadata": {
    "collapsed": false
   },
   "outputs": [
   ],
   "source": [
    "data.dropna(inplace=True)#inplace = true just updates the array right now instead of making a copy"
   ]
  },
  {
   "cell_type": "code",
   "execution_count": 13,
   "metadata": {
    "collapsed": false,
    "scrolled": true
   },
   "outputs": [
    {
     "data": {
      "text/plain": [
       "Name                     False\n",
       "RecipeIngredientParts    False\n",
       "RecipeCategory           False\n",
       "RecipeInstructions       False\n",
       "dtype: bool"
      ]
     },
     "execution_count": 13,
     "metadata": {
     },
     "output_type": "execute_result"
    }
   ],
   "source": [
    "data.isna().any()"
   ]
  },
  {
   "cell_type": "code",
   "execution_count": 14,
   "metadata": {
    "collapsed": false
   },
   "outputs": [
    {
     "data": {
      "text/plain": [
       "39265"
      ]
     },
     "execution_count": 14,
     "metadata": {
     },
     "output_type": "execute_result"
    }
   ],
   "source": [
    "len(data)"
   ]
  },
  {
   "cell_type": "code",
   "execution_count": 15,
   "metadata": {
    "collapsed": false
   },
   "outputs": [
    {
     "data": {
      "text/plain": [
       "'c(\"Toss 2 cups berries with sugar.\", \"Let stand for 45 minutes, stirring occasionally.\", \"Transfer berry-sugar mixture to food processor.\", \"Add yogurt and process until smooth.\", \"Strain through fine sieve. Pour into baking pan (or transfer to ice cream maker and process according to manufacturers\\' directions). Freeze uncovered until edges are solid but centre is soft.  Transfer to processor and blend until smooth again.\", \"Return to pan and freeze until edges are solid.\", \"Transfer to processor and blend until smooth again.\", \\n\"Fold in remaining 2 cups of blueberries.\", \"Pour into plastic mold and freeze overnight. Let soften slightly to serve.\")'"
      ]
     },
     "execution_count": 15,
     "metadata": {
     },
     "output_type": "execute_result"
    }
   ],
   "source": [
    "# see how RecipeInstructions look like\n",
    "data['RecipeInstructions'][0]"
   ]
  },
  {
   "cell_type": "markdown",
   "metadata": {
    "collapsed": false
   },
   "source": [
    "We will format the instructions and ingredients data.\n",
    "\n",
    "What we want to do is convert list string \\(a string that represent a list\\) into python list\n",
    "\n",
    "We will create a condition to check if a string is a list string \\(by checking if it starts with `c(`\n",
    "\n",
    "After that, we will convert python list to a new string by joining all elements with a newline character `\\n`\n",
    "\n"
   ]
  },
  {
   "cell_type": "code",
   "execution_count": 0,
   "metadata": {
    "collapsed": false,
    "scrolled": true
   },
   "outputs": [
   ],
   "source": [
    "'''create a data formatting function'''\n",
    "def format_text(text):\n",
    "\n",
    "    # first convert to string type in case some are not\n",
    "    text = str(text)\n",
    "    # remove trailing spaces with .strip()\n",
    "    text = text.strip() #add text to the parentheses for free cookies! \n",
    "    # check if text starts with c(\n",
    "    if text.startswith('c('):\n",
    "        # use indexing to remove letter c in prefix\n",
    "        text = text[1:]\n",
    "        # we apply ast.literal_eval() to convert a list string to python list\n",
    "        text = ast.literal_eval(text)\n",
    "        # join a list with newline character \\n (Hint: use join() )\n",
    "        text = '\\n'.join(text)\n",
    "    return text"
   ]
  },
  {
   "cell_type": "code",
   "execution_count": 19,
   "metadata": {
    "collapsed": false
   },
   "outputs": [
   ],
   "source": [
    "formatted_data = data.copy()\n",
    "\n",
    "# # apply this function to columns we need to format\n",
    "formatted_data['RecipeInstructions'] = formatted_data['RecipeInstructions'].apply(format_text)"
   ]
  },
  {
   "cell_type": "code",
   "execution_count": 20,
   "metadata": {
    "collapsed": false
   },
   "outputs": [
    {
     "name": "stdout",
     "output_type": "stream",
     "text": [
      "Toss 2 cups berries with sugar.\n",
      "Let stand for 45 minutes, stirring occasionally.\n",
      "Transfer berry-sugar mixture to food processor.\n",
      "Add yogurt and process until smooth.\n",
      "Strain through fine sieve. Pour into baking pan (or transfer to ice cream maker and process according to manufacturers' directions). Freeze uncovered until edges are solid but centre is soft.  Transfer to processor and blend until smooth again.\n",
      "Return to pan and freeze until edges are solid.\n",
      "Transfer to processor and blend until smooth again.\n",
      "Fold in remaining 2 cups of blueberries.\n",
      "Pour into plastic mold and freeze overnight. Let soften slightly to serve.\n"
     ]
    }
   ],
   "source": [
    "print(formatted_data['RecipeInstructions'][0])"
   ]
  },
  {
   "cell_type": "code",
   "execution_count": 21,
   "metadata": {
    "collapsed": false
   },
   "outputs": [
   ],
   "source": [
    "'''do the same for other columns that need formatting'''\n",
    "formatted_data['RecipeIngredientParts'] = formatted_data['RecipeIngredientParts'].apply(format_text)"
   ]
  },
  {
   "cell_type": "code",
   "execution_count": 22,
   "metadata": {
    "collapsed": false
   },
   "outputs": [
    {
     "data": {
      "text/html": [
       "<div>\n",
       "<style scoped>\n",
       "    .dataframe tbody tr th:only-of-type {\n",
       "        vertical-align: middle;\n",
       "    }\n",
       "\n",
       "    .dataframe tbody tr th {\n",
       "        vertical-align: top;\n",
       "    }\n",
       "\n",
       "    .dataframe thead th {\n",
       "        text-align: right;\n",
       "    }\n",
       "</style>\n",
       "<table border=\"1\" class=\"dataframe\">\n",
       "  <thead>\n",
       "    <tr style=\"text-align: right;\">\n",
       "      <th></th>\n",
       "      <th>Name</th>\n",
       "      <th>RecipeIngredientParts</th>\n",
       "      <th>RecipeCategory</th>\n",
       "      <th>RecipeInstructions</th>\n",
       "    </tr>\n",
       "  </thead>\n",
       "  <tbody>\n",
       "    <tr>\n",
       "      <th>0</th>\n",
       "      <td>Low-Fat Berry Blue Frozen Dessert</td>\n",
       "      <td>blueberries\\ngranulated sugar\\nvanilla yogurt\\...</td>\n",
       "      <td>Frozen Desserts</td>\n",
       "      <td>Toss 2 cups berries with sugar.\\nLet stand for...</td>\n",
       "    </tr>\n",
       "    <tr>\n",
       "      <th>1</th>\n",
       "      <td>Biryani</td>\n",
       "      <td>saffron\\nmilk\\nhot green chili peppers\\nonions...</td>\n",
       "      <td>Chicken Breast</td>\n",
       "      <td>Soak saffron in warm milk for 5 minutes and pu...</td>\n",
       "    </tr>\n",
       "    <tr>\n",
       "      <th>2</th>\n",
       "      <td>Best Lemonade</td>\n",
       "      <td>sugar\\nlemons, rind of\\nlemon, zest of\\nfresh ...</td>\n",
       "      <td>Beverages</td>\n",
       "      <td>Into a 1 quart Jar with tight fitting lid, put...</td>\n",
       "    </tr>\n",
       "    <tr>\n",
       "      <th>3</th>\n",
       "      <td>Carina's Tofu-Vegetable Kebabs</td>\n",
       "      <td>extra firm tofu\\neggplant\\nzucchini\\nmushrooms...</td>\n",
       "      <td>Soy/Tofu</td>\n",
       "      <td>Drain the tofu, carefully squeezing out excess...</td>\n",
       "    </tr>\n",
       "    <tr>\n",
       "      <th>4</th>\n",
       "      <td>Cabbage Soup</td>\n",
       "      <td>plain tomato juice\\ncabbage\\nonion\\ncarrots\\nc...</td>\n",
       "      <td>Vegetable</td>\n",
       "      <td>Mix everything together and bring to a boil.\\n...</td>\n",
       "    </tr>\n",
       "    <tr>\n",
       "      <th>...</th>\n",
       "      <td>...</td>\n",
       "      <td>...</td>\n",
       "      <td>...</td>\n",
       "      <td>...</td>\n",
       "    </tr>\n",
       "    <tr>\n",
       "      <th>49994</th>\n",
       "      <td>Broiled Orange Roughy with Green Peppercorn Sauce</td>\n",
       "      <td>fresh parsley\\nDijon mustard\\ndry white wine\\n...</td>\n",
       "      <td>Orange Roughy</td>\n",
       "      <td>Preheat broiler.\\nPosition oven rack 4 inches ...</td>\n",
       "    </tr>\n",
       "    <tr>\n",
       "      <th>49995</th>\n",
       "      <td>Sauteed Brussels Sprouts</td>\n",
       "      <td>Brussels sprout\\nsalt\\nmargarine\\nbutter\\nred ...</td>\n",
       "      <td>Vegetable</td>\n",
       "      <td>Cook Brussels sprouts in boiling water and sal...</td>\n",
       "    </tr>\n",
       "    <tr>\n",
       "      <th>49996</th>\n",
       "      <td>Beef and Chili Stew with Cornbread Dumplings</td>\n",
       "      <td>poblano chile\\nonions\\ngarlic\\ntomato paste\\nb...</td>\n",
       "      <td>Stew</td>\n",
       "      <td>Place chilies in a 10-by-15-inch pan.\\nBroil 4...</td>\n",
       "    </tr>\n",
       "    <tr>\n",
       "      <th>49997</th>\n",
       "      <td>White and Dark Chocolate Brownies</td>\n",
       "      <td>butter\\nwhite chocolate\\neggs\\nsalt\\nvanilla e...</td>\n",
       "      <td>Bar Cookie</td>\n",
       "      <td>In a double boiler or metal bowl placed over a...</td>\n",
       "    </tr>\n",
       "    <tr>\n",
       "      <th>49999</th>\n",
       "      <td>Southern Cornbread</td>\n",
       "      <td>flour\\nyellow cornmeal\\nsugar\\nEqual sugar sub...</td>\n",
       "      <td>Breads</td>\n",
       "      <td>Preheat oven to 375 degrees.\\nSpray 9x9-inch b...</td>\n",
       "    </tr>\n",
       "  </tbody>\n",
       "</table>\n",
       "<p>39265 rows × 4 columns</p>\n",
       "</div>"
      ],
      "text/plain": [
       "                                                    Name  \\\n",
       "0                      Low-Fat Berry Blue Frozen Dessert   \n",
       "1                                                Biryani   \n",
       "2                                          Best Lemonade   \n",
       "3                         Carina's Tofu-Vegetable Kebabs   \n",
       "4                                           Cabbage Soup   \n",
       "...                                                  ...   \n",
       "49994  Broiled Orange Roughy with Green Peppercorn Sauce   \n",
       "49995                           Sauteed Brussels Sprouts   \n",
       "49996       Beef and Chili Stew with Cornbread Dumplings   \n",
       "49997                  White and Dark Chocolate Brownies   \n",
       "49999                                 Southern Cornbread   \n",
       "\n",
       "                                   RecipeIngredientParts   RecipeCategory  \\\n",
       "0      blueberries\\ngranulated sugar\\nvanilla yogurt\\...  Frozen Desserts   \n",
       "1      saffron\\nmilk\\nhot green chili peppers\\nonions...   Chicken Breast   \n",
       "2      sugar\\nlemons, rind of\\nlemon, zest of\\nfresh ...        Beverages   \n",
       "3      extra firm tofu\\neggplant\\nzucchini\\nmushrooms...         Soy/Tofu   \n",
       "4      plain tomato juice\\ncabbage\\nonion\\ncarrots\\nc...        Vegetable   \n",
       "...                                                  ...              ...   \n",
       "49994  fresh parsley\\nDijon mustard\\ndry white wine\\n...    Orange Roughy   \n",
       "49995  Brussels sprout\\nsalt\\nmargarine\\nbutter\\nred ...        Vegetable   \n",
       "49996  poblano chile\\nonions\\ngarlic\\ntomato paste\\nb...             Stew   \n",
       "49997  butter\\nwhite chocolate\\neggs\\nsalt\\nvanilla e...       Bar Cookie   \n",
       "49999  flour\\nyellow cornmeal\\nsugar\\nEqual sugar sub...           Breads   \n",
       "\n",
       "                                      RecipeInstructions  \n",
       "0      Toss 2 cups berries with sugar.\\nLet stand for...  \n",
       "1      Soak saffron in warm milk for 5 minutes and pu...  \n",
       "2      Into a 1 quart Jar with tight fitting lid, put...  \n",
       "3      Drain the tofu, carefully squeezing out excess...  \n",
       "4      Mix everything together and bring to a boil.\\n...  \n",
       "...                                                  ...  \n",
       "49994  Preheat broiler.\\nPosition oven rack 4 inches ...  \n",
       "49995  Cook Brussels sprouts in boiling water and sal...  \n",
       "49996  Place chilies in a 10-by-15-inch pan.\\nBroil 4...  \n",
       "49997  In a double boiler or metal bowl placed over a...  \n",
       "49999  Preheat oven to 375 degrees.\\nSpray 9x9-inch b...  \n",
       "\n",
       "[39265 rows x 4 columns]"
      ]
     },
     "execution_count": 22,
     "metadata": {
     },
     "output_type": "execute_result"
    }
   ],
   "source": [
    "formatted_data"
   ]
  },
  {
   "cell_type": "code",
   "execution_count": 23,
   "metadata": {
    "collapsed": false
   },
   "outputs": [
    {
     "data": {
      "text/html": [
       "<div>\n",
       "<style scoped>\n",
       "    .dataframe tbody tr th:only-of-type {\n",
       "        vertical-align: middle;\n",
       "    }\n",
       "\n",
       "    .dataframe tbody tr th {\n",
       "        vertical-align: top;\n",
       "    }\n",
       "\n",
       "    .dataframe thead th {\n",
       "        text-align: right;\n",
       "    }\n",
       "</style>\n",
       "<table border=\"1\" class=\"dataframe\">\n",
       "  <thead>\n",
       "    <tr style=\"text-align: right;\">\n",
       "      <th></th>\n",
       "      <th>Name</th>\n",
       "      <th>RecipeIngredientParts</th>\n",
       "      <th>RecipeCategory</th>\n",
       "      <th>RecipeInstructions</th>\n",
       "    </tr>\n",
       "  </thead>\n",
       "  <tbody>\n",
       "    <tr>\n",
       "      <th>0</th>\n",
       "      <td>Low-Fat Berry Blue Frozen Dessert</td>\n",
       "      <td>blueberries\\ngranulated sugar\\nvanilla yogurt\\...</td>\n",
       "      <td>Frozen Desserts</td>\n",
       "      <td>Toss 2 cups berries with sugar.\\nLet stand for...</td>\n",
       "    </tr>\n",
       "    <tr>\n",
       "      <th>1</th>\n",
       "      <td>Biryani</td>\n",
       "      <td>saffron\\nmilk\\nhot green chili peppers\\nonions...</td>\n",
       "      <td>Chicken Breast</td>\n",
       "      <td>Soak saffron in warm milk for 5 minutes and pu...</td>\n",
       "    </tr>\n",
       "    <tr>\n",
       "      <th>2</th>\n",
       "      <td>Best Lemonade</td>\n",
       "      <td>sugar\\nlemons, rind of\\nlemon, zest of\\nfresh ...</td>\n",
       "      <td>Beverages</td>\n",
       "      <td>Into a 1 quart Jar with tight fitting lid, put...</td>\n",
       "    </tr>\n",
       "    <tr>\n",
       "      <th>3</th>\n",
       "      <td>Carina's Tofu-Vegetable Kebabs</td>\n",
       "      <td>extra firm tofu\\neggplant\\nzucchini\\nmushrooms...</td>\n",
       "      <td>Soy/Tofu</td>\n",
       "      <td>Drain the tofu, carefully squeezing out excess...</td>\n",
       "    </tr>\n",
       "    <tr>\n",
       "      <th>4</th>\n",
       "      <td>Cabbage Soup</td>\n",
       "      <td>plain tomato juice\\ncabbage\\nonion\\ncarrots\\nc...</td>\n",
       "      <td>Vegetable</td>\n",
       "      <td>Mix everything together and bring to a boil.\\n...</td>\n",
       "    </tr>\n",
       "  </tbody>\n",
       "</table>\n",
       "</div>"
      ],
      "text/plain": [
       "                                Name  \\\n",
       "0  Low-Fat Berry Blue Frozen Dessert   \n",
       "1                            Biryani   \n",
       "2                      Best Lemonade   \n",
       "3     Carina's Tofu-Vegetable Kebabs   \n",
       "4                       Cabbage Soup   \n",
       "\n",
       "                               RecipeIngredientParts   RecipeCategory  \\\n",
       "0  blueberries\\ngranulated sugar\\nvanilla yogurt\\...  Frozen Desserts   \n",
       "1  saffron\\nmilk\\nhot green chili peppers\\nonions...   Chicken Breast   \n",
       "2  sugar\\nlemons, rind of\\nlemon, zest of\\nfresh ...        Beverages   \n",
       "3  extra firm tofu\\neggplant\\nzucchini\\nmushrooms...         Soy/Tofu   \n",
       "4  plain tomato juice\\ncabbage\\nonion\\ncarrots\\nc...        Vegetable   \n",
       "\n",
       "                                  RecipeInstructions  \n",
       "0  Toss 2 cups berries with sugar.\\nLet stand for...  \n",
       "1  Soak saffron in warm milk for 5 minutes and pu...  \n",
       "2  Into a 1 quart Jar with tight fitting lid, put...  \n",
       "3  Drain the tofu, carefully squeezing out excess...  \n",
       "4  Mix everything together and bring to a boil.\\n...  "
      ]
     },
     "execution_count": 23,
     "metadata": {
     },
     "output_type": "execute_result"
    }
   ],
   "source": [
    "formatted_data.head()"
   ]
  },
  {
   "cell_type": "markdown",
   "metadata": {
    "collapsed": false
   },
   "source": [
    "### Create training file\n",
    "\n",
    "Now, we will generate a text file to use for training\n",
    "\n",
    "The format should look like this.\n",
    "\n",
    "`[Category]`\n",
    "\n",
    "`[Ingredients]`\n",
    "\n",
    "`[Name]`\n",
    "\n",
    "`[Recipe]`\n",
    "\n",
    "`<|endoftext|>`  \n",
    "\n"
   ]
  },
  {
   "cell_type": "code",
   "execution_count": 24,
   "metadata": {
    "collapsed": false
   },
   "outputs": [
    {
     "name": "stdout",
     "output_type": "stream",
     "text": [
      "Name                                     Low-Fat Berry Blue Frozen Dessert\n",
      "RecipeIngredientParts    c(\"blueberries\", \"granulated sugar\", \"vanilla ...\n",
      "RecipeCategory                                             Frozen Desserts\n",
      "RecipeInstructions       c(\"Toss 2 cups berries with sugar.\", \"Let stan...\n",
      "Name: 0, dtype: object\n"
     ]
    }
   ],
   "source": [
    "\n",
    "sample_data = data[:1]\n",
    "for indx, row in sample_data.iterrows():\n",
    "    print(row)"
   ]
  },
  {
   "cell_type": "code",
   "execution_count": 25,
   "metadata": {
    "collapsed": false,
    "scrolled": true
   },
   "outputs": [
    {
     "data": {
      "text/html": [
       "<div>\n",
       "<style scoped>\n",
       "    .dataframe tbody tr th:only-of-type {\n",
       "        vertical-align: middle;\n",
       "    }\n",
       "\n",
       "    .dataframe tbody tr th {\n",
       "        vertical-align: top;\n",
       "    }\n",
       "\n",
       "    .dataframe thead th {\n",
       "        text-align: right;\n",
       "    }\n",
       "</style>\n",
       "<table border=\"1\" class=\"dataframe\">\n",
       "  <thead>\n",
       "    <tr style=\"text-align: right;\">\n",
       "      <th></th>\n",
       "      <th>Name</th>\n",
       "      <th>RecipeIngredientParts</th>\n",
       "      <th>RecipeCategory</th>\n",
       "      <th>RecipeInstructions</th>\n",
       "    </tr>\n",
       "  </thead>\n",
       "  <tbody>\n",
       "    <tr>\n",
       "      <th>0</th>\n",
       "      <td>Low-Fat Berry Blue Frozen Dessert</td>\n",
       "      <td>blueberries\\ngranulated sugar\\nvanilla yogurt\\...</td>\n",
       "      <td>Frozen Desserts</td>\n",
       "      <td>Toss 2 cups berries with sugar.\\nLet stand for...</td>\n",
       "    </tr>\n",
       "    <tr>\n",
       "      <th>1</th>\n",
       "      <td>Biryani</td>\n",
       "      <td>saffron\\nmilk\\nhot green chili peppers\\nonions...</td>\n",
       "      <td>Chicken Breast</td>\n",
       "      <td>Soak saffron in warm milk for 5 minutes and pu...</td>\n",
       "    </tr>\n",
       "    <tr>\n",
       "      <th>2</th>\n",
       "      <td>Best Lemonade</td>\n",
       "      <td>sugar\\nlemons, rind of\\nlemon, zest of\\nfresh ...</td>\n",
       "      <td>Beverages</td>\n",
       "      <td>Into a 1 quart Jar with tight fitting lid, put...</td>\n",
       "    </tr>\n",
       "    <tr>\n",
       "      <th>3</th>\n",
       "      <td>Carina's Tofu-Vegetable Kebabs</td>\n",
       "      <td>extra firm tofu\\neggplant\\nzucchini\\nmushrooms...</td>\n",
       "      <td>Soy/Tofu</td>\n",
       "      <td>Drain the tofu, carefully squeezing out excess...</td>\n",
       "    </tr>\n",
       "    <tr>\n",
       "      <th>4</th>\n",
       "      <td>Cabbage Soup</td>\n",
       "      <td>plain tomato juice\\ncabbage\\nonion\\ncarrots\\nc...</td>\n",
       "      <td>Vegetable</td>\n",
       "      <td>Mix everything together and bring to a boil.\\n...</td>\n",
       "    </tr>\n",
       "    <tr>\n",
       "      <th>...</th>\n",
       "      <td>...</td>\n",
       "      <td>...</td>\n",
       "      <td>...</td>\n",
       "      <td>...</td>\n",
       "    </tr>\n",
       "    <tr>\n",
       "      <th>49994</th>\n",
       "      <td>Broiled Orange Roughy with Green Peppercorn Sauce</td>\n",
       "      <td>fresh parsley\\nDijon mustard\\ndry white wine\\n...</td>\n",
       "      <td>Orange Roughy</td>\n",
       "      <td>Preheat broiler.\\nPosition oven rack 4 inches ...</td>\n",
       "    </tr>\n",
       "    <tr>\n",
       "      <th>49995</th>\n",
       "      <td>Sauteed Brussels Sprouts</td>\n",
       "      <td>Brussels sprout\\nsalt\\nmargarine\\nbutter\\nred ...</td>\n",
       "      <td>Vegetable</td>\n",
       "      <td>Cook Brussels sprouts in boiling water and sal...</td>\n",
       "    </tr>\n",
       "    <tr>\n",
       "      <th>49996</th>\n",
       "      <td>Beef and Chili Stew with Cornbread Dumplings</td>\n",
       "      <td>poblano chile\\nonions\\ngarlic\\ntomato paste\\nb...</td>\n",
       "      <td>Stew</td>\n",
       "      <td>Place chilies in a 10-by-15-inch pan.\\nBroil 4...</td>\n",
       "    </tr>\n",
       "    <tr>\n",
       "      <th>49997</th>\n",
       "      <td>White and Dark Chocolate Brownies</td>\n",
       "      <td>butter\\nwhite chocolate\\neggs\\nsalt\\nvanilla e...</td>\n",
       "      <td>Bar Cookie</td>\n",
       "      <td>In a double boiler or metal bowl placed over a...</td>\n",
       "    </tr>\n",
       "    <tr>\n",
       "      <th>49999</th>\n",
       "      <td>Southern Cornbread</td>\n",
       "      <td>flour\\nyellow cornmeal\\nsugar\\nEqual sugar sub...</td>\n",
       "      <td>Breads</td>\n",
       "      <td>Preheat oven to 375 degrees.\\nSpray 9x9-inch b...</td>\n",
       "    </tr>\n",
       "  </tbody>\n",
       "</table>\n",
       "<p>39265 rows × 4 columns</p>\n",
       "</div>"
      ],
      "text/plain": [
       "                                                    Name  \\\n",
       "0                      Low-Fat Berry Blue Frozen Dessert   \n",
       "1                                                Biryani   \n",
       "2                                          Best Lemonade   \n",
       "3                         Carina's Tofu-Vegetable Kebabs   \n",
       "4                                           Cabbage Soup   \n",
       "...                                                  ...   \n",
       "49994  Broiled Orange Roughy with Green Peppercorn Sauce   \n",
       "49995                           Sauteed Brussels Sprouts   \n",
       "49996       Beef and Chili Stew with Cornbread Dumplings   \n",
       "49997                  White and Dark Chocolate Brownies   \n",
       "49999                                 Southern Cornbread   \n",
       "\n",
       "                                   RecipeIngredientParts   RecipeCategory  \\\n",
       "0      blueberries\\ngranulated sugar\\nvanilla yogurt\\...  Frozen Desserts   \n",
       "1      saffron\\nmilk\\nhot green chili peppers\\nonions...   Chicken Breast   \n",
       "2      sugar\\nlemons, rind of\\nlemon, zest of\\nfresh ...        Beverages   \n",
       "3      extra firm tofu\\neggplant\\nzucchini\\nmushrooms...         Soy/Tofu   \n",
       "4      plain tomato juice\\ncabbage\\nonion\\ncarrots\\nc...        Vegetable   \n",
       "...                                                  ...              ...   \n",
       "49994  fresh parsley\\nDijon mustard\\ndry white wine\\n...    Orange Roughy   \n",
       "49995  Brussels sprout\\nsalt\\nmargarine\\nbutter\\nred ...        Vegetable   \n",
       "49996  poblano chile\\nonions\\ngarlic\\ntomato paste\\nb...             Stew   \n",
       "49997  butter\\nwhite chocolate\\neggs\\nsalt\\nvanilla e...       Bar Cookie   \n",
       "49999  flour\\nyellow cornmeal\\nsugar\\nEqual sugar sub...           Breads   \n",
       "\n",
       "                                      RecipeInstructions  \n",
       "0      Toss 2 cups berries with sugar.\\nLet stand for...  \n",
       "1      Soak saffron in warm milk for 5 minutes and pu...  \n",
       "2      Into a 1 quart Jar with tight fitting lid, put...  \n",
       "3      Drain the tofu, carefully squeezing out excess...  \n",
       "4      Mix everything together and bring to a boil.\\n...  \n",
       "...                                                  ...  \n",
       "49994  Preheat broiler.\\nPosition oven rack 4 inches ...  \n",
       "49995  Cook Brussels sprouts in boiling water and sal...  \n",
       "49996  Place chilies in a 10-by-15-inch pan.\\nBroil 4...  \n",
       "49997  In a double boiler or metal bowl placed over a...  \n",
       "49999  Preheat oven to 375 degrees.\\nSpray 9x9-inch b...  \n",
       "\n",
       "[39265 rows x 4 columns]"
      ]
     },
     "execution_count": 25,
     "metadata": {
     },
     "output_type": "execute_result"
    }
   ],
   "source": [
    "formatted_data"
   ]
  },
  {
   "cell_type": "code",
   "execution_count": 26,
   "metadata": {
    "collapsed": false
   },
   "outputs": [
   ],
   "source": [
    "def generate_training_text(data, file):\n",
    "    # iterate through the dataframe (Hint: look up how to use .iterrows() function)\n",
    "    for indx, row in data.iterrows():\n",
    "        \n",
    "        # get category text for each row\n",
    "        category = row['RecipeCategory']\n",
    "        # get ingredient text for each row\n",
    "        ingredients = row['RecipeIngredientParts']\n",
    "        # get name text for each row\n",
    "        name = row['Name']\n",
    "        # get instruction text for each row\n",
    "        instruction = row['RecipeInstructions']\n",
    "        \n",
    "        file.write('[Category]' + '\\n')\n",
    "        file.write(category+ '\\n')\n",
    "        file.write('\\n')\n",
    "        \n",
    "        file.write('[Ingredients]'+ '\\n')\n",
    "        file.write(ingredients+ '\\n')\n",
    "        file.write('\\n')\n",
    "        \n",
    "        file.write('[Name]'+ '\\n')\n",
    "        file.write(name+ '\\n')\n",
    "        file.write('\\n')\n",
    "        \n",
    "        file.write('[Recipe]'+ '\\n')\n",
    "        file.write(instruction+ '\\n')\n",
    "        \n",
    "        file.write('<|endoftext|>'+ '\\n')\n",
    "        file.write('\\n')"
   ]
  },
  {
   "cell_type": "code",
   "execution_count": 27,
   "metadata": {
    "collapsed": false
   },
   "outputs": [
   ],
   "source": [
    "with open('train2.txt','w', encoding='utf-8') as file:\n",
    "    generate_training_text(formatted_data, file)"
   ]
  }
 ],
 "metadata": {
  "kernelspec": {
   "display_name": "Python (nlp_env)",
   "language": "python",
   "metadata": {
    "debugger": true
   },
   "name": "nlp_env",
   "resource_dir": "/projects/937b47d2-0a7d-4c8a-adcf-9b1fb6f1f292/.local/share/jupyter/kernels/nlp_env"
  },
  "language_info": {
   "codemirror_mode": {
    "name": "ipython",
    "version": 3
   },
   "file_extension": ".py",
   "mimetype": "text/x-python",
   "name": "python",
   "nbconvert_exporter": "python",
   "pygments_lexer": "ipython3",
   "version": "3.8.13"
  }
 },
 "nbformat": 4,
 "nbformat_minor": 4
}